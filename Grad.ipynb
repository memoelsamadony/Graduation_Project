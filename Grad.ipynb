{
 "cells": [
  {
   "cell_type": "code",
   "execution_count": 1,
   "metadata": {},
   "outputs": [
    {
     "name": "stderr",
     "output_type": "stream",
     "text": [
      "2023-12-11 22:24:47.502545: I tensorflow/core/platform/cpu_feature_guard.cc:182] This TensorFlow binary is optimized to use available CPU instructions in performance-critical operations.\n",
      "To enable the following instructions: AVX2 FMA, in other operations, rebuild TensorFlow with the appropriate compiler flags.\n",
      "2023-12-11 22:24:48.932955: W tensorflow/compiler/tf2tensorrt/utils/py_utils.cc:38] TF-TRT Warning: Could not find TensorRT\n"
     ]
    }
   ],
   "source": [
    "import numpy as np \n",
    "import pandas as pd\n",
    "import pickle\n",
    "import tensorflow as tf\n",
    "from Bio import SeqIO\n",
    "import os\n",
    "from feature_extarction import *\n",
    "from Utilis import *\n",
    "from predictor import *\n",
    "from sklearn.metrics import accuracy_score , f1_score , precision_score , recall_score , roc_auc_score , matthews_corrcoef , confusion_matrix,precision_recall_curve"
   ]
  },
  {
   "cell_type": "code",
   "execution_count": 2,
   "metadata": {},
   "outputs": [
    {
     "data": {
      "text/plain": [
       "PhysicalDevice(name='/physical_device:GPU:0', device_type='GPU')"
      ]
     },
     "execution_count": 2,
     "metadata": {},
     "output_type": "execute_result"
    }
   ],
   "source": [
    "tf.config.LogicalDevice(name='/physical_device:GPU:0', device_type='GPU')\n",
    "tf.config.PhysicalDevice(name='/physical_device:GPU:0', device_type='GPU')"
   ]
  },
  {
   "cell_type": "code",
   "execution_count": 3,
   "metadata": {},
   "outputs": [
    {
     "data": {
      "text/plain": [
       "OrderedDict([('cpu_compiler', '/usr/lib/llvm-16/bin/clang'),\n",
       "             ('cuda_compute_capabilities',\n",
       "              ['sm_35', 'sm_50', 'sm_60', 'sm_70', 'sm_75', 'compute_80']),\n",
       "             ('cuda_version', '11.8'),\n",
       "             ('cudnn_version', '8'),\n",
       "             ('is_cuda_build', True),\n",
       "             ('is_rocm_build', False),\n",
       "             ('is_tensorrt_build', True)])"
      ]
     },
     "execution_count": 3,
     "metadata": {},
     "output_type": "execute_result"
    }
   ],
   "source": [
    "tf.sysconfig.get_build_info() "
   ]
  },
  {
   "cell_type": "code",
   "execution_count": 4,
   "metadata": {},
   "outputs": [],
   "source": [
    "file = 'Data/Train_335.fa'\n",
    "\n",
    "sequences_train = [seq for seq in SeqIO.parse(file,'fasta')]"
   ]
  },
  {
   "cell_type": "code",
   "execution_count": 5,
   "metadata": {},
   "outputs": [],
   "source": [
    "file = 'test/Test_60.fa'\n",
    "\n",
    "sequences_test = [seq for seq in SeqIO.parse(file,'fasta')]"
   ]
  },
  {
   "cell_type": "code",
   "execution_count": 6,
   "metadata": {},
   "outputs": [],
   "source": [
    "file = 'test/Test_315.fa'\n",
    "\n",
    "sequences_test_315 = [seq for seq in SeqIO.parse(file,'fasta')]"
   ]
  },
  {
   "cell_type": "code",
   "execution_count": 6,
   "metadata": {},
   "outputs": [
    {
     "data": {
      "text/plain": [
       "Seq('SLRQEDFPPRIVEHPSDLIVSKGEPATLNCKAEGRPTPTIEWYKGGERVETDKD...000')"
      ]
     },
     "execution_count": 6,
     "metadata": {},
     "output_type": "execute_result"
    }
   ],
   "source": [
    "sequences_test[0].seq"
   ]
  },
  {
   "cell_type": "code",
   "execution_count": 6,
   "metadata": {},
   "outputs": [],
   "source": [
    "ProtName_train = []\n",
    "y_train = []\n",
    "seqs_train = []\n",
    "\n",
    "\n",
    "for seq in sequences_train:\n",
    "    ProtName_train.append(seq.name)\n",
    "    y = []\n",
    "    sequence = []\n",
    "    for i in seq.seq:\n",
    "        if  i.isdigit() == False:\n",
    "            sequence.append(i)\n",
    "        else:\n",
    "            y.append(int(i))\n",
    "    \n",
    "\n",
    "    y_train.append(np.array(y))\n",
    "    seqs_train.append(sequence)"
   ]
  },
  {
   "cell_type": "code",
   "execution_count": 7,
   "metadata": {},
   "outputs": [],
   "source": [
    "ProtName_test = []\n",
    "y_test = []\n",
    "seqs_test = []\n",
    "\n",
    "\n",
    "for seq in sequences_test:\n",
    "    ProtName_test.append(seq.name)\n",
    "    y = []\n",
    "    sequence = []\n",
    "    for i in seq.seq:\n",
    "        if  i.isdigit() == False:\n",
    "            sequence.append(i)\n",
    "        else:\n",
    "            y.append(int(i))\n",
    "    \n",
    "\n",
    "    y_test.append(y)\n",
    "    seqs_test.append(sequence)"
   ]
  },
  {
   "cell_type": "code",
   "execution_count": 9,
   "metadata": {},
   "outputs": [],
   "source": [
    "ProtName_test_315 = []\n",
    "y_test_315 = []\n",
    "seqs_test_315 = []\n",
    "\n",
    "\n",
    "for seq in sequences_test_315:\n",
    "    ProtName_test_315.append(seq.name)\n",
    "    y = []\n",
    "    sequence = []\n",
    "    for i in seq.seq:\n",
    "        if  i.isdigit() == False:\n",
    "            sequence.append(i)\n",
    "        else:\n",
    "            y.append(int(i))\n",
    "    \n",
    "\n",
    "    y_test_315.append(y)\n",
    "    seqs_test_315.append(sequence)"
   ]
  },
  {
   "cell_type": "code",
   "execution_count": 87,
   "metadata": {},
   "outputs": [
    {
     "data": {
      "text/plain": [
       "1"
      ]
     },
     "execution_count": 87,
     "metadata": {},
     "output_type": "execute_result"
    }
   ],
   "source": [
    "ProtName_train.index('4iu2B')"
   ]
  },
  {
   "cell_type": "code",
   "execution_count": 88,
   "metadata": {},
   "outputs": [
    {
     "name": "stdout",
     "output_type": "stream",
     "text": [
      "['P', 'A', 'A', 'K', 'S', 'I', 'V', 'T', 'L', 'D', 'V', 'K', 'P', 'W', 'D', 'D', 'E', 'T', 'N', 'L', 'E', 'E', 'M', 'V', 'A', 'N', 'V', 'K', 'A', 'I', 'E', 'M', 'E', 'G', 'L', 'T', 'W', 'G', 'A', 'H', 'Q', 'F', 'I', 'P', 'I', 'G', 'F', 'G', 'I', 'K', 'K', 'L', 'Q', 'I', 'N', 'C', 'V', 'V', 'E', 'D', 'D', 'K', 'V', 'S', 'L', 'D', 'D', 'L', 'Q', 'Q', 'S', 'I', 'E', 'E', 'D', 'E', 'D', 'H', 'V', 'Q', 'S', 'T', 'D', 'I', 'A', 'A', 'M', 'Q', 'K', 'L']\n",
      "[0 0 1 1 1 1 0 1 0 0 0 1 1 1 1 1 0 0 0 0 0 0 0 0 0 0 0 0 0 0 0 0 0 0 0 1 1\n",
      " 1 1 0 1 0 1 1 1 1 1 0 1 0 0 0 1 0 1 0 1 1 0 1 0 0 1 1 1 1 1 0 1 0 0 0 0 0\n",
      " 0 0 0 0 0 1 1 1 1 1 1 1 1 1 1 1]\n"
     ]
    }
   ],
   "source": [
    "print(seqs_train[0])\n",
    "print(y_train[0])"
   ]
  },
  {
   "cell_type": "code",
   "execution_count": 89,
   "metadata": {},
   "outputs": [
    {
     "name": "stdout",
     "output_type": "stream",
     "text": [
      "['S', 'L', 'R', 'Q', 'E', 'D', 'F', 'P', 'P', 'R', 'I', 'V', 'E', 'H', 'P', 'S', 'D', 'L', 'I', 'V', 'S', 'K', 'G', 'E', 'P', 'A', 'T', 'L', 'N', 'C', 'K', 'A', 'E', 'G', 'R', 'P', 'T', 'P', 'T', 'I', 'E', 'W', 'Y', 'K', 'G', 'G', 'E', 'R', 'V', 'E', 'T', 'D', 'K', 'D', 'D', 'P', 'R', 'S', 'H', 'R', 'M', 'L', 'L', 'P', 'S', 'G', 'S', 'L', 'F', 'F', 'L', 'R', 'I', 'V', 'H', 'G', 'R', 'K', 'S', 'R', 'P', 'D', 'E', 'G', 'V', 'Y', 'V', 'C', 'V', 'A', 'R', 'N', 'Y', 'L', 'G', 'E', 'A', 'V', 'S', 'H', 'D', 'A', 'S', 'L', 'E', 'V', 'A']\n",
      "[0, 0, 0, 0, 0, 0, 0, 0, 0, 0, 0, 1, 1, 1, 0, 1, 1, 1, 0, 0, 0, 0, 1, 0, 1, 1, 1, 0, 1, 0, 1, 0, 1, 0, 0, 0, 0, 0, 0, 0, 0, 0, 0, 0, 0, 0, 0, 0, 0, 0, 0, 0, 0, 0, 0, 1, 0, 1, 0, 0, 1, 0, 1, 1, 1, 0, 1, 0, 1, 0, 1, 1, 0, 0, 0, 0, 0, 0, 0, 0, 0, 0, 0, 0, 0, 0, 0, 0, 0, 0, 0, 0, 0, 0, 0, 0, 0, 0, 0, 0, 0, 0, 0, 0, 0, 0, 0]\n"
     ]
    }
   ],
   "source": [
    "print(seqs_test[0])\n",
    "print(y_test[0])"
   ]
  },
  {
   "cell_type": "code",
   "execution_count": 9,
   "metadata": {},
   "outputs": [
    {
     "name": "stdout",
     "output_type": "stream",
     "text": [
      "1f60\n"
     ]
    }
   ],
   "source": [
    "print(ProtName_train[0][:-1])\n",
    "train_data_path = './Data/'"
   ]
  },
  {
   "cell_type": "code",
   "execution_count": 91,
   "metadata": {},
   "outputs": [
    {
     "name": "stderr",
     "output_type": "stream",
     "text": [
      "URL transformed to HTTPS due to an HSTS policy\n",
      "--2023-11-09 23:41:18--  https://www.rcsb.org/pdb/files/1f60.pdb.gz\n",
      "Resolving www.rcsb.org (www.rcsb.org)... 128.6.159.248\n",
      "Connecting to www.rcsb.org (www.rcsb.org)|128.6.159.248|:443... "
     ]
    },
    {
     "name": "stderr",
     "output_type": "stream",
     "text": [
      "connected.\n",
      "HTTP request sent, awaiting response... 301 Moved Permanently\n",
      "Location: https://files.rcsb.org/download/1f60.pdb.gz [following]\n",
      "--2023-11-09 23:41:19--  https://files.rcsb.org/download/1f60.pdb.gz\n",
      "Resolving files.rcsb.org (files.rcsb.org)... 128.6.159.100\n",
      "Connecting to files.rcsb.org (files.rcsb.org)|128.6.159.100|:443... connected.\n",
      "HTTP request sent, awaiting response... 200 OK\n",
      "Length: 103657 (101K) [application/octet-stream]\n",
      "Saving to: ‘./Data/1f60.pdb.gz.1’\n",
      "\n",
      "     0K .......... .......... .......... .......... .......... 49%  135K 0s\n",
      "    50K .......... .......... .......... .......... .......... 98%  354K 0s\n",
      "   100K .                                                     100% 23.7M=0.5s\n",
      "\n",
      "2023-11-09 23:41:21 (198 KB/s) - ‘./Data/1f60.pdb.gz.1’ saved [103657/103657]\n",
      "\n"
     ]
    },
    {
     "data": {
      "text/plain": [
       "0"
      ]
     },
     "execution_count": 91,
     "metadata": {},
     "output_type": "execute_result"
    }
   ],
   "source": [
    "os.system(\"wget -P {} http://www.rcsb.org/pdb/files/{}.pdb.gz\".format(train_data_path, ProtName_train[0][:-1]))"
   ]
  },
  {
   "cell_type": "code",
   "execution_count": 92,
   "metadata": {},
   "outputs": [],
   "source": [
    "for prot in ProtName_train:\n",
    "    if os.path.exists(train_data_path + \"{}.pdb.gz\".format(prot[:-1])) == False:\n",
    "        os.system(\"wget -P {} http://www.rcsb.org/pdb/files/{}.pdb.gz\".format(train_data_path, prot[:-1]))"
   ]
  },
  {
   "cell_type": "code",
   "execution_count": 93,
   "metadata": {},
   "outputs": [
    {
     "name": "stderr",
     "output_type": "stream",
     "text": [
      "URL transformed to HTTPS due to an HSTS policy\n",
      "--2023-11-09 23:41:21--  https://www.rcsb.org/pdb/files/1f60.pdb.gz\n",
      "Resolving www.rcsb.org (www.rcsb.org)... 128.6.159.248\n",
      "Connecting to www.rcsb.org (www.rcsb.org)|128.6.159.248|:443... connected.\n",
      "HTTP request sent, awaiting response... 301 Moved Permanently\n",
      "Location: https://files.rcsb.org/download/1f60.pdb.gz [following]\n",
      "--2023-11-09 23:41:22--  https://files.rcsb.org/download/1f60.pdb.gz\n",
      "Resolving files.rcsb.org (files.rcsb.org)... 128.6.159.100\n",
      "Connecting to files.rcsb.org (files.rcsb.org)|128.6.159.100|:443... connected.\n",
      "HTTP request sent, awaiting response... 200 OK\n",
      "Length: 103657 (101K) [application/octet-stream]\n",
      "Saving to: ‘./data_ext/1f60.pdb.gz’\n",
      "\n",
      "     0K .......... .......... .......... .......... .......... 49% 98.7K 1s\n",
      "    50K .......... .......... .......... .......... .......... 98%  179K 0s\n",
      "   100K .                                                     100% 2.29T=0.8s\n",
      "\n",
      "2023-11-09 23:41:24 (129 KB/s) - ‘./data_ext/1f60.pdb.gz’ saved [103657/103657]\n",
      "\n",
      "URL transformed to HTTPS due to an HSTS policy\n",
      "--2023-11-09 23:41:24--  https://www.rcsb.org/pdb/files/4iu2.pdb.gz\n",
      "Resolving www.rcsb.org (www.rcsb.org)... 128.6.159.248\n",
      "Connecting to www.rcsb.org (www.rcsb.org)|128.6.159.248|:443... connected.\n",
      "HTTP request sent, awaiting response... 301 Moved Permanently\n",
      "Location: https://files.rcsb.org/download/4iu2.pdb.gz [following]\n",
      "--2023-11-09 23:41:25--  https://files.rcsb.org/download/4iu2.pdb.gz\n",
      "Resolving files.rcsb.org (files.rcsb.org)... 128.6.159.100\n",
      "Connecting to files.rcsb.org (files.rcsb.org)|128.6.159.100|:443... connected.\n",
      "HTTP request sent, awaiting response... 200 OK\n",
      "Length: 171680 (168K) [application/octet-stream]\n",
      "Saving to: ‘./data_ext/4iu2.pdb.gz’\n",
      "\n",
      "     0K .......... .......... .......... .......... .......... 29%  115K 1s\n",
      "    50K .......... .......... .......... .......... .......... 59%  204K 0s\n",
      "   100K .......... .......... .......... .......... .......... 89% 1.00M 0s\n",
      "   150K .......... .......                                    100% 1016K=0.7s\n",
      "\n",
      "2023-11-09 23:41:27 (225 KB/s) - ‘./data_ext/4iu2.pdb.gz’ saved [171680/171680]\n",
      "\n",
      "URL transformed to HTTPS due to an HSTS policy\n",
      "--2023-11-09 23:41:27--  https://www.rcsb.org/pdb/files/3f6q.pdb.gz\n",
      "Resolving www.rcsb.org (www.rcsb.org)... 128.6.159.248\n",
      "Connecting to www.rcsb.org (www.rcsb.org)|128.6.159.248|:443... connected.\n",
      "HTTP request sent, awaiting response... 301 Moved Permanently\n",
      "Location: https://files.rcsb.org/download/3f6q.pdb.gz [following]\n",
      "--2023-11-09 23:41:28--  https://files.rcsb.org/download/3f6q.pdb.gz\n",
      "Resolving files.rcsb.org (files.rcsb.org)... 128.6.159.100\n",
      "Connecting to files.rcsb.org (files.rcsb.org)|128.6.159.100|:443... connected.\n",
      "HTTP request sent, awaiting response... 200 OK\n",
      "Length: 54080 (53K) [application/octet-stream]\n",
      "Saving to: ‘./data_ext/3f6q.pdb.gz’\n",
      "\n",
      "     0K .......... .......... .......... .......... .......... 94% 92.0K 0s\n",
      "    50K ..                                                    100% 5.24T=0.5s\n",
      "\n",
      "2023-11-09 23:41:30 (97.2 KB/s) - ‘./data_ext/3f6q.pdb.gz’ saved [54080/54080]\n",
      "\n",
      "URL transformed to HTTPS due to an HSTS policy\n",
      "--2023-11-09 23:41:30--  https://www.rcsb.org/pdb/files/4bi8.pdb.gz\n",
      "Resolving www.rcsb.org (www.rcsb.org)... 128.6.159.248\n",
      "Connecting to www.rcsb.org (www.rcsb.org)|128.6.159.248|:443... connected.\n",
      "HTTP request sent, awaiting response... 301 Moved Permanently\n",
      "Location: https://files.rcsb.org/download/4bi8.pdb.gz [following]\n",
      "--2023-11-09 23:41:31--  https://files.rcsb.org/download/4bi8.pdb.gz\n",
      "Resolving files.rcsb.org (files.rcsb.org)... 128.6.159.100\n",
      "Connecting to files.rcsb.org (files.rcsb.org)|128.6.159.100|:443... connected.\n",
      "HTTP request sent, awaiting response... 200 OK\n",
      "Length: 95050 (93K) [application/octet-stream]\n",
      "Saving to: ‘./data_ext/4bi8.pdb.gz’\n",
      "\n",
      "     0K .......... .......... .......... .......... .......... 53% 96.8K 0s\n",
      "    50K .......... .......... .......... .......... ..        100%  172K=0.8s\n",
      "\n",
      "2023-11-09 23:41:33 (121 KB/s) - ‘./data_ext/4bi8.pdb.gz’ saved [95050/95050]\n",
      "\n",
      "URL transformed to HTTPS due to an HSTS policy\n",
      "--2023-11-09 23:41:33--  https://www.rcsb.org/pdb/files/2o3b.pdb.gz\n",
      "Resolving www.rcsb.org (www.rcsb.org)... 128.6.159.248\n",
      "Connecting to www.rcsb.org (www.rcsb.org)|128.6.159.248|:443... connected.\n",
      "HTTP request sent, awaiting response... 301 Moved Permanently\n",
      "Location: https://files.rcsb.org/download/2o3b.pdb.gz [following]\n",
      "--2023-11-09 23:41:34--  https://files.rcsb.org/download/2o3b.pdb.gz\n",
      "Resolving files.rcsb.org (files.rcsb.org)... 128.6.159.100\n",
      "Connecting to files.rcsb.org (files.rcsb.org)|128.6.159.100|:443... connected.\n",
      "HTTP request sent, awaiting response... 200 OK\n",
      "Length: 71879 (70K) [application/octet-stream]\n",
      "Saving to: ‘./data_ext/2o3b.pdb.gz’\n",
      "\n",
      "     0K .......... .......... .......... .......... .......... 71%  107K 0s\n",
      "    50K .......... ..........                                 100% 1.19M=0.5s\n",
      "\n",
      "2023-11-09 23:41:36 (145 KB/s) - ‘./data_ext/2o3b.pdb.gz’ saved [71879/71879]\n",
      "\n",
      "URL transformed to HTTPS due to an HSTS policy\n",
      "--2023-11-09 23:41:36--  https://www.rcsb.org/pdb/files/3h4s.pdb.gz\n",
      "Resolving www.rcsb.org (www.rcsb.org)... 128.6.159.248\n",
      "Connecting to www.rcsb.org (www.rcsb.org)|128.6.159.248|:443... connected.\n",
      "HTTP request sent, awaiting response... 301 Moved Permanently\n",
      "Location: https://files.rcsb.org/download/3h4s.pdb.gz [following]\n",
      "--2023-11-09 23:41:38--  https://files.rcsb.org/download/3h4s.pdb.gz\n",
      "Resolving files.rcsb.org (files.rcsb.org)... 128.6.159.100\n",
      "Connecting to files.rcsb.org (files.rcsb.org)|128.6.159.100|:443... connected.\n",
      "HTTP request sent, awaiting response... 200 OK\n",
      "Length: 85431 (83K) [application/octet-stream]\n",
      "Saving to: ‘./data_ext/3h4s.pdb.gz’\n",
      "\n",
      "     0K .......... .......... .......... .......... .......... 59%  102K 0s\n",
      "    50K .......... .......... .......... ...                  100% 1.28M=0.5s\n",
      "\n",
      "2023-11-09 23:41:40 (162 KB/s) - ‘./data_ext/3h4s.pdb.gz’ saved [85431/85431]\n",
      "\n",
      "URL transformed to HTTPS due to an HSTS policy\n",
      "--2023-11-09 23:41:40--  https://www.rcsb.org/pdb/files/1mah.pdb.gz\n",
      "Resolving www.rcsb.org (www.rcsb.org)... 128.6.159.248\n",
      "Connecting to www.rcsb.org (www.rcsb.org)|128.6.159.248|:443... connected.\n",
      "HTTP request sent, awaiting response... 301 Moved Permanently\n",
      "Location: https://files.rcsb.org/download/1mah.pdb.gz [following]\n",
      "--2023-11-09 23:41:41--  https://files.rcsb.org/download/1mah.pdb.gz\n",
      "Resolving files.rcsb.org (files.rcsb.org)... 128.6.159.100\n",
      "Connecting to files.rcsb.org (files.rcsb.org)|128.6.159.100|:443... connected.\n",
      "HTTP request sent, awaiting response... 200 OK\n",
      "Length: 94583 (92K) [application/octet-stream]\n",
      "Saving to: ‘./data_ext/1mah.pdb.gz’\n",
      "\n",
      "     0K .......... .......... .......... .......... .......... 54% 87.5K 0s\n",
      "    50K .......... .......... .......... .......... ..        100%  153K=0.8s\n",
      "\n",
      "2023-11-09 23:41:43 (109 KB/s) - ‘./data_ext/1mah.pdb.gz’ saved [94583/94583]\n",
      "\n",
      "URL transformed to HTTPS due to an HSTS policy\n",
      "--2023-11-09 23:41:43--  https://www.rcsb.org/pdb/files/3p8b.pdb.gz\n",
      "Resolving www.rcsb.org (www.rcsb.org)... 128.6.159.248\n",
      "Connecting to www.rcsb.org (www.rcsb.org)|128.6.159.248|:443... connected.\n",
      "HTTP request sent, awaiting response... 301 Moved Permanently\n",
      "Location: https://files.rcsb.org/download/3p8b.pdb.gz [following]\n",
      "--2023-11-09 23:41:45--  https://files.rcsb.org/download/3p8b.pdb.gz\n",
      "Resolving files.rcsb.org (files.rcsb.org)... 128.6.159.100\n",
      "Connecting to files.rcsb.org (files.rcsb.org)|128.6.159.100|:443... connected.\n",
      "HTTP request sent, awaiting response... 200 OK\n",
      "Length: 77282 (75K) [application/octet-stream]\n",
      "Saving to: ‘./data_ext/3p8b.pdb.gz’\n",
      "\n",
      "     0K .......... .......... .......... .......... .......... 66% 82.8K 0s\n",
      "    50K .......... .......... .....                           100%  458K=0.7s\n",
      "\n",
      "2023-11-09 23:41:47 (114 KB/s) - ‘./data_ext/3p8b.pdb.gz’ saved [77282/77282]\n",
      "\n",
      "URL transformed to HTTPS due to an HSTS policy\n",
      "--2023-11-09 23:41:47--  https://www.rcsb.org/pdb/files/4kt6.pdb.gz\n",
      "Resolving www.rcsb.org (www.rcsb.org)... 128.6.159.248\n",
      "Connecting to www.rcsb.org (www.rcsb.org)|128.6.159.248|:443... connected.\n",
      "HTTP request sent, awaiting response... 301 Moved Permanently\n",
      "Location: https://files.rcsb.org/download/4kt6.pdb.gz [following]\n",
      "--2023-11-09 23:41:48--  https://files.rcsb.org/download/4kt6.pdb.gz\n",
      "Resolving files.rcsb.org (files.rcsb.org)... 128.6.159.100\n",
      "Connecting to files.rcsb.org (files.rcsb.org)|128.6.159.100|:443... connected.\n",
      "HTTP request sent, awaiting response... 200 OK\n",
      "Length: 153291 (150K) [application/octet-stream]\n",
      "Saving to: ‘./data_ext/4kt6.pdb.gz’\n",
      "\n",
      "     0K .......... .......... .......... .......... .......... 33% 82.5K 1s\n",
      "    50K .......... .......... .......... .......... .......... 66%  153K 0s\n",
      "   100K .......... .."
     ]
    }
   ],
   "source": [
    "for prot in ProtName_train:\n",
    "    pdb_extract(train_data_path, prot[:-1],prot[-1])"
   ]
  },
  {
   "cell_type": "code",
   "execution_count": 8,
   "metadata": {},
   "outputs": [],
   "source": [
    "#Add path here accoding to your device\n",
    "data_path='./Data/' #output folder path for features\n",
    "Software_path = \"./\"    \n",
    "dssp = Software_path + \"dssp-3.1.4/mkdssp\" #dssp software folder path for features extraction\n",
    "PSIBLAST = Software_path + \"Blastx/bin/psiblast\" #PSIBLAST software folder path for features extraction\n",
    "HHBLITS = Software_path + \"hh-suite/build/bin/hhblits\" #HH-SUITE software folder path for features extraction\n",
    "UR90 = \"./unirefdb/uniref90.fasta\" #database for pssm path #PSIBLAST DATABASE folder path for features extraction\n",
    "HHDB = \"./hmmDB/uniclust30_2017_10\" #database hmm path #HH-SUITE DATABASE folder path for features extraction\n",
    "pre_path='./Feature/'"
   ]
  },
  {
   "cell_type": "code",
   "execution_count": null,
   "metadata": {},
   "outputs": [],
   "source": [
    "for prot,sequence in zip(ProtName_train,seqs_train):\n",
    "    get_dssp(prot,sequence,'./Data/')"
   ]
  },
  {
   "cell_type": "code",
   "execution_count": null,
   "metadata": {},
   "outputs": [],
   "source": [
    "for prot in ProtName_train:\n",
    "    prepare_hhm(prot)"
   ]
  },
  {
   "cell_type": "code",
   "execution_count": null,
   "metadata": {},
   "outputs": [
    {
     "name": "stderr",
     "output_type": "stream",
     "text": [
      "Warning: [psiblast] Query_1 1f60B: Composition-based score adjustment conditioned on sequence properties and unconditional composition-based score adjustment is not supported with PSSMs, resetting to default value of standard composition-based statistics \n"
     ]
    },
    {
     "name": "stdout",
     "output_type": "stream",
     "text": [
      "1\n"
     ]
    },
    {
     "name": "stderr",
     "output_type": "stream",
     "text": [
      "Warning: [psiblast] Query_1 4iu2B: Composition-based score adjustment conditioned on sequence properties and unconditional composition-based score adjustment is not supported with PSSMs, resetting to default value of standard composition-based statistics \n"
     ]
    },
    {
     "name": "stdout",
     "output_type": "stream",
     "text": [
      "2\n"
     ]
    },
    {
     "name": "stderr",
     "output_type": "stream",
     "text": [
      "Warning: [psiblast] Query_1 3f6qB: Composition-based score adjustment conditioned on sequence properties and unconditional composition-based score adjustment is not supported with PSSMs, resetting to default value of standard composition-based statistics \n"
     ]
    },
    {
     "name": "stdout",
     "output_type": "stream",
     "text": [
      "3\n"
     ]
    }
   ],
   "source": [
    "count = 0\n",
    "for prot in ProtName_train:\n",
    "    prepare_pssm(prot)\n",
    "    count += 1\n",
    "    print(count)"
   ]
  },
  {
   "cell_type": "code",
   "execution_count": 11,
   "metadata": {},
   "outputs": [
    {
     "data": {
      "text/plain": [
       "(66276, 19, 20)"
      ]
     },
     "execution_count": 11,
     "metadata": {},
     "output_type": "execute_result"
    }
   ],
   "source": [
    "X_train_1 = []\n",
    "\n",
    "path=pre_path\n",
    "with open(f'{path}/data_seq/data_ID.dat','rb') as FH:\n",
    "    data0 =pickle.load(FH)\n",
    "    \n",
    "    \n",
    "pssm=np.load(f'{path}pssm/pssm.npy',allow_pickle=True)\n",
    "dssp=np.load(f'{path}dssp/dssp.npy',allow_pickle=True)\n",
    "hhm=np.load(f'{path}hhm/hhm.npy',allow_pickle=True)\n",
    "\n",
    "for prot in ProtName_train:\n",
    "    \n",
    "    i_0=0\n",
    "    for index_0 in data0[:,0]:  \n",
    "        if prot.lower()==index_0.lower():\n",
    "            found=1\n",
    "            seq=data0[i_0,1]\n",
    "            tEMP_0=pssm[1,i_0]\n",
    "            tEMP_1=dssp[1,i_0]\n",
    "            tEMP_2=hhm[1,i_0]\n",
    "            w_size = 19\n",
    "\n",
    "            f1 = windowing(tEMP_0, seq, w_size, 0, 20)\n",
    "            f2 = windowing(tEMP_1, seq, w_size, 0, 14)\n",
    "            f3 = windowing(tEMP_2, seq, w_size, 0, 20)\n",
    "\n",
    "            if not X_train_1:\n",
    "                # If X_train is empty, just append the matrices\n",
    "                X_train_1.extend([f1, f2, f3])\n",
    "            else:\n",
    "                # Use numpy.concatenate to append along the first dimension\n",
    "                X_train_1[0] = np.concatenate([X_train_1[0], f1])\n",
    "                X_train_1[1] = np.concatenate([X_train_1[1], f2])\n",
    "                X_train_1[2] = np.concatenate([X_train_1[2], f3])\n",
    "            break\n",
    "        i_0=i_0+1\n",
    "\n",
    "X_train_1[0].shape"
   ]
  },
  {
   "cell_type": "code",
   "execution_count": 9,
   "metadata": {},
   "outputs": [
    {
     "data": {
      "text/plain": [
       "(66366, 19, 20)"
      ]
     },
     "execution_count": 9,
     "metadata": {},
     "output_type": "execute_result"
    }
   ],
   "source": [
    "X_train_1 = []\n",
    "for prot, sequence in zip(ProtName_train, seqs_train):\n",
    "    tEMP_0 = np.load(f'{data_path}pssm/{prot}.npy')\n",
    "    tEMP_1 = np.load(f'{data_path}dssp/{prot}.npy')\n",
    "    tEMP_2 = np.load(f'{data_path}hmm/{prot}.npy')\n",
    "\n",
    "    w_size = 19\n",
    "\n",
    "    f1 = windowing(tEMP_0, sequence, w_size, 0, 20)\n",
    "    f2 = windowing(tEMP_1, sequence, w_size, 0, 14)\n",
    "    f3 = windowing(tEMP_2, sequence, w_size, 0, 20)\n",
    "\n",
    "    if not X_train_1:\n",
    "        # If X_train is empty, just append the matrices\n",
    "        X_train_1.extend([f1, f2, f3])\n",
    "    else:\n",
    "        # Use numpy.concatenate to append along the first dimension\n",
    "        X_train_1[0] = np.concatenate([X_train_1[0], f1])\n",
    "        X_train_1[1] = np.concatenate([X_train_1[1], f2])\n",
    "        X_train_1[2] = np.concatenate([X_train_1[2], f3])\n",
    "\n",
    "X_train_1[0].shape\n"
   ]
  },
  {
   "cell_type": "code",
   "execution_count": 10,
   "metadata": {},
   "outputs": [
    {
     "data": {
      "text/plain": [
       "(66366,)"
      ]
     },
     "execution_count": 10,
     "metadata": {},
     "output_type": "execute_result"
    }
   ],
   "source": [
    "y_train_1 = np.concatenate(y_train)\n",
    "y_train_1.shape"
   ]
  },
  {
   "cell_type": "code",
   "execution_count": 14,
   "metadata": {},
   "outputs": [
    {
     "data": {
      "text/plain": [
       "0.15631498056233614"
      ]
     },
     "execution_count": 14,
     "metadata": {},
     "output_type": "execute_result"
    }
   ],
   "source": [
    "y_train_1.sum()/y_train_1.shape[0]"
   ]
  },
  {
   "cell_type": "code",
   "execution_count": 31,
   "metadata": {},
   "outputs": [],
   "source": [
    "import numpy as np\n",
    "\n",
    "def balance_data(X, y, target_ratio=0.6, random_seed=42):\n",
    "    # Set the random seed for reproducibility\n",
    "    if random_seed is not None:\n",
    "        np.random.seed(random_seed)\n",
    "\n",
    "    # Find the indices of positive (1) class samples\n",
    "    positive_indices = np.where(y == 1)[0]\n",
    "    negative_indices = np.where(y == 0)[0]\n",
    "\n",
    "    # Calculate the desired number of positive samples to duplicate\n",
    "    num_positive_samples = len(positive_indices)\n",
    "    num_samples_to_duplicate = abs(int(num_positive_samples * (target_ratio)))\n",
    "\n",
    "\n",
    "    duplicated_positive_indices = np.random.choice(positive_indices, num_samples_to_duplicate, replace=True)\n",
    "\n",
    "    e = duplicated_positive_indices\n",
    "    \n",
    "\n",
    "    # Combine the original positive samples with the duplicated ones and the negative samples\n",
    "    balanced_indices = np.concatenate([positive_indices, duplicated_positive_indices, negative_indices])\n",
    "\n",
    "    # Shuffle the indices to mix the order of samples\n",
    "    np.random.shuffle(balanced_indices)\n",
    "\n",
    "    # Create balanced X and y arrays\n",
    "    X_balanced0 = X[0][balanced_indices]\n",
    "    X_balanced1 = X[1][balanced_indices]\n",
    "    X_balanced2 = X[2][balanced_indices]\n",
    "\n",
    "    X_balanced = [X_balanced0, X_balanced1, X_balanced2]\n",
    "    y_balanced = y[balanced_indices]\n",
    "\n",
    "    return X_balanced, y_balanced\n",
    "\n",
    "# Example usage:\n",
    "X_train_balanced, y_train_balanced = balance_data(X_train_1, y_train_1, target_ratio=3, random_seed=42)\n",
    "\n",
    "\n"
   ]
  },
  {
   "cell_type": "code",
   "execution_count": 11,
   "metadata": {},
   "outputs": [],
   "source": [
    "def balance_data(X, y, target_ratio=0.6, random_seed=42):\n",
    "    # Set the random seed for reproducibility\n",
    "    if random_seed is not None:\n",
    "        np.random.seed(random_seed)\n",
    "    \n",
    "    # Find the indices of positive (1) and negative (0) class samples\n",
    "    positive_indices = np.where(y == 1)[0]\n",
    "    negative_indices = np.where(y == 0)[0]\n",
    "\n",
    "    # Calculate the desired number of negative samples\n",
    "    num_positive_samples = len(positive_indices)\n",
    "    num_negative_samples = int(num_positive_samples / target_ratio - num_positive_samples)\n",
    "\n",
    "    # Randomly select a subset of negative samples to keep the desired ratio\n",
    "    random_negative_indices = np.random.choice(negative_indices, num_negative_samples, replace=False)\n",
    "\n",
    "    # Combine the selected positive and negative samples\n",
    "    balanced_indices = np.concatenate([positive_indices, random_negative_indices])\n",
    "\n",
    "    # Shuffle the indices to mix the order of samples\n",
    "    np.random.shuffle(balanced_indices)\n",
    "\n",
    "    # Create balanced X and y arrays\n",
    "    X_balanced0 = X[0][balanced_indices]\n",
    "    X_balanced1 = X[1][balanced_indices]\n",
    "    X_balanced2 = X[2][balanced_indices]\n",
    "\n",
    "    X_balanced = [X_balanced0, X_balanced1, X_balanced2]\n",
    "    y_balanced = y[balanced_indices]\n",
    "\n",
    "    return X_balanced, y_balanced\n"
   ]
  },
  {
   "cell_type": "code",
   "execution_count": null,
   "metadata": {},
   "outputs": [],
   "source": []
  },
  {
   "cell_type": "code",
   "execution_count": 45,
   "metadata": {},
   "outputs": [
    {
     "data": {
      "text/plain": [
       "(34580,)"
      ]
     },
     "execution_count": 45,
     "metadata": {},
     "output_type": "execute_result"
    }
   ],
   "source": [
    "y_train_balanced.shape"
   ]
  },
  {
   "cell_type": "code",
   "execution_count": null,
   "metadata": {},
   "outputs": [],
   "source": []
  },
  {
   "cell_type": "code",
   "execution_count": 12,
   "metadata": {},
   "outputs": [],
   "source": [
    "X_test = []\n",
    "for prot,sequence in zip(ProtName_test,seqs_test):\n",
    "    tEMP_0=np.load(f'{data_path}pssm/{prot}.npy')\n",
    "    tEMP_1=np.load(f'{data_path}dssp/{prot}.npy')\n",
    "    tEMP_2=np.load(f'{data_path}hmm/{prot}.npy')\n",
    "\n",
    "    w_size=19\n",
    "    \n",
    "    f1=windowing(tEMP_0,sequence,w_size,0,20)\n",
    "    f2=windowing(tEMP_1,sequence,w_size,0,14)\n",
    "    f3=windowing(tEMP_2,sequence,w_size,0,20)\n",
    "\n",
    "    if not X_test:\n",
    "        # If X_train is empty, just append the matrices\n",
    "        X_test.extend([f1, f2, f3])\n",
    "    else:\n",
    "        # Use numpy.concatenate to append along the first dimension\n",
    "        X_test[0] = np.concatenate([X_test[0], f1])\n",
    "        X_test[1] = np.concatenate([X_test[1], f2])\n",
    "        X_test[2] = np.concatenate([X_test[2], f3])\n",
    "\n",
    "    X_test[0].shape"
   ]
  },
  {
   "cell_type": "code",
   "execution_count": 13,
   "metadata": {},
   "outputs": [
    {
     "data": {
      "text/plain": [
       "(13144, 19, 20)"
      ]
     },
     "execution_count": 13,
     "metadata": {},
     "output_type": "execute_result"
    }
   ],
   "source": [
    "X_test[0].shape"
   ]
  },
  {
   "cell_type": "code",
   "execution_count": 14,
   "metadata": {},
   "outputs": [
    {
     "data": {
      "text/plain": [
       "(13144,)"
      ]
     },
     "execution_count": 14,
     "metadata": {},
     "output_type": "execute_result"
    }
   ],
   "source": [
    "y_test = np.concatenate(y_test)\n",
    "y_test.shape"
   ]
  },
  {
   "cell_type": "code",
   "execution_count": null,
   "metadata": {},
   "outputs": [
    {
     "ename": "NameError",
     "evalue": "name 'ProtName_test_315' is not defined",
     "output_type": "error",
     "traceback": [
      "\u001b[0;31m---------------------------------------------------------------------------\u001b[0m",
      "\u001b[0;31mNameError\u001b[0m                                 Traceback (most recent call last)",
      "\u001b[1;32m/home/mahmoud/Graduation_Project/ProB-site/Grad.ipynb Cell 26\u001b[0m line \u001b[0;36m2\n\u001b[1;32m      <a href='vscode-notebook-cell:/home/mahmoud/Graduation_Project/ProB-site/Grad.ipynb#X34sZmlsZQ%3D%3D?line=0'>1</a>\u001b[0m X_test_315 \u001b[39m=\u001b[39m []\n\u001b[0;32m----> <a href='vscode-notebook-cell:/home/mahmoud/Graduation_Project/ProB-site/Grad.ipynb#X34sZmlsZQ%3D%3D?line=1'>2</a>\u001b[0m \u001b[39mfor\u001b[39;00m prot,sequence \u001b[39min\u001b[39;00m \u001b[39mzip\u001b[39m(ProtName_test_315,seqs_test_315):\n\u001b[1;32m      <a href='vscode-notebook-cell:/home/mahmoud/Graduation_Project/ProB-site/Grad.ipynb#X34sZmlsZQ%3D%3D?line=2'>3</a>\u001b[0m     tEMP_0\u001b[39m=\u001b[39mnp\u001b[39m.\u001b[39mload(\u001b[39mf\u001b[39m\u001b[39m'\u001b[39m\u001b[39m{\u001b[39;00mdata_path\u001b[39m}\u001b[39;00m\u001b[39mpssm/\u001b[39m\u001b[39m{\u001b[39;00mprot\u001b[39m}\u001b[39;00m\u001b[39m.npy\u001b[39m\u001b[39m'\u001b[39m)\n\u001b[1;32m      <a href='vscode-notebook-cell:/home/mahmoud/Graduation_Project/ProB-site/Grad.ipynb#X34sZmlsZQ%3D%3D?line=3'>4</a>\u001b[0m     tEMP_1\u001b[39m=\u001b[39mnp\u001b[39m.\u001b[39mload(\u001b[39mf\u001b[39m\u001b[39m'\u001b[39m\u001b[39m{\u001b[39;00mdata_path\u001b[39m}\u001b[39;00m\u001b[39mdssp/\u001b[39m\u001b[39m{\u001b[39;00mprot\u001b[39m}\u001b[39;00m\u001b[39m.npy\u001b[39m\u001b[39m'\u001b[39m)\n",
      "\u001b[0;31mNameError\u001b[0m: name 'ProtName_test_315' is not defined"
     ]
    }
   ],
   "source": [
    "X_test_315 = []\n",
    "for prot,sequence in zip(ProtName_test_315,seqs_test_315):\n",
    "    tEMP_0=np.load(f'{data_path}pssm/{prot}.npy')\n",
    "    tEMP_1=np.load(f'{data_path}dssp/{prot}.npy')\n",
    "    tEMP_2=np.load(f'{data_path}hmm/{prot}.npy')\n",
    "\n",
    "    w_size=19\n",
    "    \n",
    "    f1=windowing(tEMP_0,sequence,w_size,0,20)\n",
    "    f2=windowing(tEMP_1,sequence,w_size,0,14)\n",
    "    f3=windowing(tEMP_2,sequence,w_size,0,20)\n",
    "\n",
    "    if not X_test_315:\n",
    "        # If X_train is empty, just append the matrices\n",
    "        X_test_315.extend([f1, f2, f3])\n",
    "    else:\n",
    "        # Use numpy.concatenate to append along the first dimension\n",
    "        X_test_315[0] = np.concatenate([X_test_315[0], f1])\n",
    "        X_test_315[1] = np.concatenate([X_test_315[1], f2])\n",
    "        X_test_315[2] = np.concatenate([X_test_315[2], f3])\n",
    "\n",
    "print(X_test_315[0].shape)\n",
    "    #y_test_315 = np.concatenate(y_test_315)\n",
    "print(y_test_315.shape)\n"
   ]
  },
  {
   "cell_type": "code",
   "execution_count": 15,
   "metadata": {},
   "outputs": [],
   "source": [
    "X_train = []\n",
    "for prot,sequence in zip(ProtName_train,seqs_train):\n",
    "    tEMP_0=np.load(f'{data_path}pssm/{prot}.npy')\n",
    "    tEMP_1=np.load(f'{data_path}dssp/{prot}.npy')\n",
    "    tEMP_2=np.load(f'{data_path}hmm/{prot}.npy')\n",
    "\n",
    "    w_size=19\n",
    "    \n",
    "    f1=windowing(tEMP_0,sequence,w_size,0,20)\n",
    "    f2=windowing(tEMP_1,sequence,w_size,0,14)\n",
    "    f3=windowing(tEMP_2,sequence,w_size,0,20)\n",
    "    X_train.append([f1,f2,f3])"
   ]
  },
  {
   "cell_type": "code",
   "execution_count": 17,
   "metadata": {},
   "outputs": [
    {
     "data": {
      "text/plain": [
       "(90, 19, 20)"
      ]
     },
     "execution_count": 17,
     "metadata": {},
     "output_type": "execute_result"
    }
   ],
   "source": [
    "X_train[0][0].shape"
   ]
  },
  {
   "cell_type": "code",
   "execution_count": null,
   "metadata": {},
   "outputs": [],
   "source": [
    "X_test = []\n",
    "for prot,sequence in zip(ProtName_test,seqs_test):\n",
    "    tEMP_0=np.load(f'{data_path}pssm/{prot}.npy')\n",
    "    tEMP_1=np.load(f'{data_path}dssp/{prot}.npy')\n",
    "    tEMP_2=np.load(f'{data_path}hmm/{prot}.npy')\n",
    "\n",
    "    w_size=19\n",
    "    \n",
    "    f1=windowing(tEMP_0,sequence,w_size,0,20)\n",
    "    f2=windowing(tEMP_1,sequence,w_size,0,14)\n",
    "    f3=windowing(tEMP_2,sequence,w_size,0,20)\n",
    "    X_test.append([f1,f2,f3])"
   ]
  },
  {
   "cell_type": "code",
   "execution_count": null,
   "metadata": {},
   "outputs": [
    {
     "name": "stderr",
     "output_type": "stream",
     "text": [
      "/tmp/ipykernel_12746/1757705326.py:1: VisibleDeprecationWarning: Creating an ndarray from ragged nested sequences (which is a list-or-tuple of lists-or-tuples-or ndarrays with different lengths or shapes) is deprecated. If you meant to do this, you must specify 'dtype=object' when creating the ndarray.\n",
      "  X_train = np.array(X_train)\n"
     ]
    }
   ],
   "source": [
    "X_train = np.array(X_train)"
   ]
  },
  {
   "cell_type": "code",
   "execution_count": 15,
   "metadata": {},
   "outputs": [
    {
     "name": "stderr",
     "output_type": "stream",
     "text": [
      "2023-12-11 22:26:04.567149: I tensorflow/compiler/xla/stream_executor/cuda/cuda_gpu_executor.cc:995] successful NUMA node read from SysFS had negative value (-1), but there must be at least one NUMA node, so returning NUMA node zero. See more at https://github.com/torvalds/linux/blob/v6.0/Documentation/ABI/testing/sysfs-bus-pci#L344-L355\n",
      "2023-12-11 22:26:04.907973: I tensorflow/compiler/xla/stream_executor/cuda/cuda_gpu_executor.cc:995] successful NUMA node read from SysFS had negative value (-1), but there must be at least one NUMA node, so returning NUMA node zero. See more at https://github.com/torvalds/linux/blob/v6.0/Documentation/ABI/testing/sysfs-bus-pci#L344-L355\n",
      "2023-12-11 22:26:04.908344: I tensorflow/compiler/xla/stream_executor/cuda/cuda_gpu_executor.cc:995] successful NUMA node read from SysFS had negative value (-1), but there must be at least one NUMA node, so returning NUMA node zero. See more at https://github.com/torvalds/linux/blob/v6.0/Documentation/ABI/testing/sysfs-bus-pci#L344-L355\n",
      "2023-12-11 22:26:04.909684: I tensorflow/compiler/xla/stream_executor/cuda/cuda_gpu_executor.cc:995] successful NUMA node read from SysFS had negative value (-1), but there must be at least one NUMA node, so returning NUMA node zero. See more at https://github.com/torvalds/linux/blob/v6.0/Documentation/ABI/testing/sysfs-bus-pci#L344-L355\n",
      "2023-12-11 22:26:04.909959: I tensorflow/compiler/xla/stream_executor/cuda/cuda_gpu_executor.cc:995] successful NUMA node read from SysFS had negative value (-1), but there must be at least one NUMA node, so returning NUMA node zero. See more at https://github.com/torvalds/linux/blob/v6.0/Documentation/ABI/testing/sysfs-bus-pci#L344-L355\n",
      "2023-12-11 22:26:04.910149: I tensorflow/compiler/xla/stream_executor/cuda/cuda_gpu_executor.cc:995] successful NUMA node read from SysFS had negative value (-1), but there must be at least one NUMA node, so returning NUMA node zero. See more at https://github.com/torvalds/linux/blob/v6.0/Documentation/ABI/testing/sysfs-bus-pci#L344-L355\n",
      "2023-12-11 22:26:04.984124: I tensorflow/compiler/xla/stream_executor/cuda/cuda_gpu_executor.cc:995] successful NUMA node read from SysFS had negative value (-1), but there must be at least one NUMA node, so returning NUMA node zero. See more at https://github.com/torvalds/linux/blob/v6.0/Documentation/ABI/testing/sysfs-bus-pci#L344-L355\n",
      "2023-12-11 22:26:04.984478: I tensorflow/compiler/xla/stream_executor/cuda/cuda_gpu_executor.cc:995] successful NUMA node read from SysFS had negative value (-1), but there must be at least one NUMA node, so returning NUMA node zero. See more at https://github.com/torvalds/linux/blob/v6.0/Documentation/ABI/testing/sysfs-bus-pci#L344-L355\n",
      "2023-12-11 22:26:04.984681: I tensorflow/compiler/xla/stream_executor/cuda/cuda_gpu_executor.cc:995] successful NUMA node read from SysFS had negative value (-1), but there must be at least one NUMA node, so returning NUMA node zero. See more at https://github.com/torvalds/linux/blob/v6.0/Documentation/ABI/testing/sysfs-bus-pci#L344-L355\n",
      "2023-12-11 22:26:04.984825: I tensorflow/core/common_runtime/gpu/gpu_device.cc:1639] Created device /job:localhost/replica:0/task:0/device:GPU:0 with 2791 MB memory:  -> device: 0, name: NVIDIA GeForce GTX 1650, pci bus id: 0000:01:00.0, compute capability: 7.5\n"
     ]
    }
   ],
   "source": [
    "# Load the TensorFlow model\n",
    "tf_model = tf.keras.models.load_model('model/model_19.h5')\n",
    "ppi_model2 = tf.keras.models.load_model('model/ppi_model9.h5')"
   ]
  },
  {
   "cell_type": "code",
   "execution_count": 16,
   "metadata": {},
   "outputs": [
    {
     "name": "stdout",
     "output_type": "stream",
     "text": [
      "Model: \"functional_11\"\n",
      "__________________________________________________________________________________________________\n",
      " Layer (type)                Output Shape                 Param #   Connected to                  \n",
      "==================================================================================================\n",
      " input_16 (InputLayer)       [(None, 19, 20)]             0         []                            \n",
      "                                                                                                  \n",
      " input_17 (InputLayer)       [(None, 19, 14)]             0         []                            \n",
      "                                                                                                  \n",
      " input_18 (InputLayer)       [(None, 19, 20)]             0         []                            \n",
      "                                                                                                  \n",
      " conv1d_30 (Conv1D)          (None, 15, 64)               6464      ['input_16[0][0]']            \n",
      "                                                                                                  \n",
      " conv1d_33 (Conv1D)          (None, 15, 64)               4544      ['input_17[0][0]']            \n",
      "                                                                                                  \n",
      " conv1d_36 (Conv1D)          (None, 15, 64)               6464      ['input_18[0][0]']            \n",
      "                                                                                                  \n",
      " conv1d_31 (Conv1D)          (None, 13, 32)               6176      ['conv1d_30[0][0]']           \n",
      "                                                                                                  \n",
      " conv1d_34 (Conv1D)          (None, 13, 32)               6176      ['conv1d_33[0][0]']           \n",
      "                                                                                                  \n",
      " conv1d_37 (Conv1D)          (None, 13, 32)               6176      ['conv1d_36[0][0]']           \n",
      "                                                                                                  \n",
      " conv1d_32 (Conv1D)          (None, 11, 16)               1552      ['conv1d_31[0][0]']           \n",
      "                                                                                                  \n",
      " conv1d_35 (Conv1D)          (None, 11, 16)               1552      ['conv1d_34[0][0]']           \n",
      "                                                                                                  \n",
      " conv1d_38 (Conv1D)          (None, 11, 16)               1552      ['conv1d_37[0][0]']           \n",
      "                                                                                                  \n",
      " layer_normalization_10 (La  (None, 11, 16)               32        ['conv1d_32[0][0]']           \n",
      " yerNormalization)                                                                                \n",
      "                                                                                                  \n",
      " layer_normalization_11 (La  (None, 11, 16)               32        ['conv1d_35[0][0]']           \n",
      " yerNormalization)                                                                                \n",
      "                                                                                                  \n",
      " layer_normalization_12 (La  (None, 11, 16)               32        ['conv1d_38[0][0]']           \n",
      " yerNormalization)                                                                                \n",
      "                                                                                                  \n",
      " dropout_10 (Dropout)        (None, 11, 16)               0         ['layer_normalization_10[0][0]\n",
      "                                                                    ']                            \n",
      "                                                                                                  \n",
      " dropout_11 (Dropout)        (None, 11, 16)               0         ['layer_normalization_11[0][0]\n",
      "                                                                    ']                            \n",
      "                                                                                                  \n",
      " dropout_12 (Dropout)        (None, 11, 16)               0         ['layer_normalization_12[0][0]\n",
      "                                                                    ']                            \n",
      "                                                                                                  \n",
      " concatenate_5 (Concatenate  (None, 11, 48)               0         ['dropout_10[0][0]',          \n",
      " )                                                                   'dropout_11[0][0]',          \n",
      "                                                                     'dropout_12[0][0]']          \n",
      "                                                                                                  \n",
      " flatten_5 (Flatten)         (None, 528)                  0         ['concatenate_5[0][0]']       \n",
      "                                                                                                  \n",
      " dense_20 (Dense)            (None, 256)                  135424    ['flatten_5[0][0]']           \n",
      "                                                                                                  \n",
      " dense_21 (Dense)            (None, 128)                  32896     ['dense_20[0][0]']            \n",
      "                                                                                                  \n",
      " dense_22 (Dense)            (None, 64)                   8256      ['dense_21[0][0]']            \n",
      "                                                                                                  \n",
      " dense_23 (Dense)            (None, 1)                    65        ['dense_22[0][0]']            \n",
      "                                                                                                  \n",
      "==================================================================================================\n",
      "Total params: 217393 (849.19 KB)\n",
      "Trainable params: 217393 (849.19 KB)\n",
      "Non-trainable params: 0 (0.00 Byte)\n",
      "__________________________________________________________________________________________________\n"
     ]
    }
   ],
   "source": [
    "tf_model.summary()"
   ]
  },
  {
   "cell_type": "code",
   "execution_count": 17,
   "metadata": {},
   "outputs": [
    {
     "name": "stdout",
     "output_type": "stream",
     "text": [
      "Model: \"PPI_Model\"\n",
      "__________________________________________________________________________________________________\n",
      " Layer (type)                Output Shape                 Param #   Connected to                  \n",
      "==================================================================================================\n",
      " input_16 (InputLayer)       [(None, 19, 20)]             0         []                            \n",
      "                                                                                                  \n",
      " input_17 (InputLayer)       [(None, 19, 14)]             0         []                            \n",
      "                                                                                                  \n",
      " input_18 (InputLayer)       [(None, 19, 20)]             0         []                            \n",
      "                                                                                                  \n",
      " conv1d_30 (Conv1D)          (None, 15, 64)               6464      ['input_16[0][0]']            \n",
      "                                                                                                  \n",
      " conv1d_33 (Conv1D)          (None, 15, 64)               4544      ['input_17[0][0]']            \n",
      "                                                                                                  \n",
      " conv1d_36 (Conv1D)          (None, 15, 64)               6464      ['input_18[0][0]']            \n",
      "                                                                                                  \n",
      " conv1d_31 (Conv1D)          (None, 13, 32)               6176      ['conv1d_30[0][0]']           \n",
      "                                                                                                  \n",
      " conv1d_34 (Conv1D)          (None, 13, 32)               6176      ['conv1d_33[0][0]']           \n",
      "                                                                                                  \n",
      " conv1d_37 (Conv1D)          (None, 13, 32)               6176      ['conv1d_36[0][0]']           \n",
      "                                                                                                  \n",
      " conv1d_32 (Conv1D)          (None, 11, 16)               1552      ['conv1d_31[0][0]']           \n",
      "                                                                                                  \n",
      " conv1d_35 (Conv1D)          (None, 11, 16)               1552      ['conv1d_34[0][0]']           \n",
      "                                                                                                  \n",
      " conv1d_38 (Conv1D)          (None, 11, 16)               1552      ['conv1d_37[0][0]']           \n",
      "                                                                                                  \n",
      " layer_normalization_10 (La  (None, 11, 16)               32        ['conv1d_32[0][0]']           \n",
      " yerNormalization)                                                                                \n",
      "                                                                                                  \n",
      " layer_normalization_11 (La  (None, 11, 16)               32        ['conv1d_35[0][0]']           \n",
      " yerNormalization)                                                                                \n",
      "                                                                                                  \n",
      " layer_normalization_12 (La  (None, 11, 16)               32        ['conv1d_38[0][0]']           \n",
      " yerNormalization)                                                                                \n",
      "                                                                                                  \n",
      " dropout_10 (Dropout)        (None, 11, 16)               0         ['layer_normalization_10[0][0]\n",
      "                                                                    ']                            \n",
      "                                                                                                  \n",
      " dropout_11 (Dropout)        (None, 11, 16)               0         ['layer_normalization_11[0][0]\n",
      "                                                                    ']                            \n",
      "                                                                                                  \n",
      " dropout_12 (Dropout)        (None, 11, 16)               0         ['layer_normalization_12[0][0]\n",
      "                                                                    ']                            \n",
      "                                                                                                  \n",
      " concatenate_5 (Concatenate  (None, 11, 48)               0         ['dropout_10[0][0]',          \n",
      " )                                                                   'dropout_11[0][0]',          \n",
      "                                                                     'dropout_12[0][0]']          \n",
      "                                                                                                  \n",
      " flatten_5 (Flatten)         (None, 528)                  0         ['concatenate_5[0][0]']       \n",
      "                                                                                                  \n",
      " dense_20 (Dense)            (None, 256)                  135424    ['flatten_5[0][0]']           \n",
      "                                                                                                  \n",
      " dense_21 (Dense)            (None, 128)                  32896     ['dense_20[0][0]']            \n",
      "                                                                                                  \n",
      " dense_22 (Dense)            (None, 64)                   8256      ['dense_21[0][0]']            \n",
      "                                                                                                  \n",
      " dense_23 (Dense)            (None, 1)                    65        ['dense_22[0][0]']            \n",
      "                                                                                                  \n",
      "==================================================================================================\n",
      "Total params: 217393 (849.19 KB)\n",
      "Trainable params: 217393 (849.19 KB)\n",
      "Non-trainable params: 0 (0.00 Byte)\n",
      "__________________________________________________________________________________________________\n"
     ]
    }
   ],
   "source": [
    "import tensorflow as tf\n",
    "from tensorflow.keras import layers, models\n",
    "\n",
    "# Create your model\n",
    "def PPI_Model():\n",
    "    # Input layers\n",
    "    input1 = tf.keras.layers.Input(shape=(19, 20), name='input_16')\n",
    "    input2 = tf.keras.layers.Input(shape=(19, 14), name='input_17')\n",
    "    input3 = tf.keras.layers.Input(shape=(19, 20), name='input_18')\n",
    "\n",
    "    # CNN layers with ReLU activation\n",
    "    conv1d_30 = layers.Conv1D(64, 5, activation='relu', name='conv1d_30')(input1)\n",
    "    conv1d_33 = layers.Conv1D(64, 5, activation='relu', name='conv1d_33')(input2)\n",
    "    conv1d_36 = layers.Conv1D(64, 5, activation='relu', name='conv1d_36')(input3)\n",
    "\n",
    "    conv1d_31 = layers.Conv1D(32, 3, activation='relu', name='conv1d_31')(conv1d_30)\n",
    "    conv1d_34 = layers.Conv1D(32, 3, activation='relu', name='conv1d_34')(conv1d_33)\n",
    "    conv1d_37 = layers.Conv1D(32, 3, activation='relu', name='conv1d_37')(conv1d_36)\n",
    "\n",
    "    conv1d_32 = layers.Conv1D(16, 3, activation='relu', name='conv1d_32')(conv1d_31)\n",
    "    conv1d_35 = layers.Conv1D(16, 3, activation='relu', name='conv1d_35')(conv1d_34)\n",
    "    conv1d_38 = layers.Conv1D(16, 3, activation='relu', name='conv1d_38')(conv1d_37)\n",
    "\n",
    "    # Layer normalization\n",
    "    layer_normalization_10 = layers.LayerNormalization(name='layer_normalization_10')(conv1d_32)\n",
    "    layer_normalization_11 = layers.LayerNormalization(name='layer_normalization_11')(conv1d_35)\n",
    "    layer_normalization_12 = layers.LayerNormalization(name='layer_normalization_12')(conv1d_38)\n",
    "\n",
    "    # Dropout layers\n",
    "    dropout_10 = layers.Dropout(0.1, name='dropout_10')(layer_normalization_10)\n",
    "    dropout_11 = layers.Dropout(0.2, name='dropout_11')(layer_normalization_11)\n",
    "    dropout_12 = layers.Dropout(0.3, name='dropout_12')(layer_normalization_12)\n",
    "\n",
    "    # Concatenation\n",
    "    concatenated = layers.Concatenate(name='concatenate_5')([dropout_10, dropout_11, dropout_12])\n",
    "\n",
    "    # Flatten\n",
    "    flattened = layers.Flatten(name='flatten_5')(concatenated)\n",
    "\n",
    "    # Dense layers with ReLU activation\n",
    "    dense_20 = layers.Dense(256, activation='relu', name='dense_20')(flattened)\n",
    "    dense_21 = layers.Dense(128, activation='relu', name='dense_21')(dense_20)\n",
    "    dense_22 = layers.Dense(64, activation='relu', name='dense_22')(dense_21)\n",
    "\n",
    "    # Final layer with sigmoid activation\n",
    "    output = layers.Dense(1, activation='sigmoid', name='dense_23')(dense_22)\n",
    "\n",
    "    model = models.Model(inputs=[input1, input2, input3], outputs=output, name='PPI_Model')\n",
    "\n",
    "    return model\n",
    "\n",
    "# Instantiate the model\n",
    "ppi_model = PPI_Model()\n",
    "\n",
    "# Display model summary\n",
    "ppi_model.summary()\n"
   ]
  },
  {
   "cell_type": "code",
   "execution_count": 18,
   "metadata": {},
   "outputs": [],
   "source": [
    "metrics = [tf.keras.metrics.AUC(curve='PR', name='prc'),\n",
    "           'accuracy']\n",
    "\n",
    "\n",
    "\n",
    "early_stopping = tf.keras.callbacks.EarlyStopping(\n",
    "    monitor='val_prc', \n",
    "    verbose=1,\n",
    "    patience=15,\n",
    "    mode='max',\n",
    "    restore_best_weights=True)"
   ]
  },
  {
   "cell_type": "code",
   "execution_count": 92,
   "metadata": {},
   "outputs": [],
   "source": [
    "# Compile the model\n",
    "ppi_model.compile(optimizer=tf.keras.optimizers.experimental.SGD(learning_rate=0.001,weight_decay=0.01,momentum=0.9),  \n",
    "                  loss='binary_crossentropy',  \n",
    "                  metrics=metrics)  "
   ]
  },
  {
   "cell_type": "code",
   "execution_count": 49,
   "metadata": {},
   "outputs": [],
   "source": [
    "ppi_model.compile(optimizer=tf.keras.optimizers.Adam(),\n",
    "                  loss='binary_crossentropy',\n",
    "                  metrics=metrics)"
   ]
  },
  {
   "cell_type": "code",
   "execution_count": 79,
   "metadata": {},
   "outputs": [],
   "source": [
    "ppi_model.compile(optimizer=tf.keras.optimizers.Lion(weight_decay=0.5,global_clipnorm=1.0),  \n",
    "                  loss='binary_crossentropy',  \n",
    "                  metrics=metrics)  "
   ]
  },
  {
   "cell_type": "code",
   "execution_count": 44,
   "metadata": {},
   "outputs": [],
   "source": [
    "ppi_model.compile(optimizer=tf.keras.optimizers.experimental.Adagrad(),  # You can adjust the learning rate as needed\n",
    "                  loss='binary_crossentropy',  \n",
    "                  metrics=metrics)"
   ]
  },
  {
   "cell_type": "code",
   "execution_count": null,
   "metadata": {},
   "outputs": [
    {
     "data": {
      "text/plain": [
       "(13273, 19, 20)"
      ]
     },
     "execution_count": 61,
     "metadata": {},
     "output_type": "execute_result"
    }
   ],
   "source": [
    "X_train_1[0][53093:].shape"
   ]
  },
  {
   "cell_type": "code",
   "execution_count": null,
   "metadata": {},
   "outputs": [],
   "source": [
    "xt = []\n",
    "xt.append(X_train_1[0][:53092])\n",
    "xt.append(X_train_1[1][:53092])\n",
    "xt.append(X_train_1[2][:53092])\n",
    "\n",
    "yt = y_train_1[:53092]\n",
    "\n",
    "x_val = []\n",
    "x_val.append(X_train_1[0][53093:])\n",
    "x_val.append(X_train_1[1][53093:])\n",
    "x_val.append(X_train_1[2][53093:])\n",
    "\n",
    "y_val = y_train_1[53093:]"
   ]
  },
  {
   "cell_type": "code",
   "execution_count": 93,
   "metadata": {},
   "outputs": [],
   "source": [
    "X_train_balanced, y_train_balanced = balance_data(X_train_1, y_train_1, target_ratio=0.5, random_seed=42)"
   ]
  },
  {
   "cell_type": "code",
   "execution_count": 94,
   "metadata": {},
   "outputs": [
    {
     "data": {
      "text/plain": [
       "(20748,)"
      ]
     },
     "execution_count": 94,
     "metadata": {},
     "output_type": "execute_result"
    }
   ],
   "source": [
    "y_train_balanced.shape"
   ]
  },
  {
   "cell_type": "code",
   "execution_count": 95,
   "metadata": {},
   "outputs": [
    {
     "name": "stdout",
     "output_type": "stream",
     "text": [
      "Epoch 1/30\n",
      "325/325 [==============================] - 5s 6ms/step - loss: 0.6989 - prc: 0.4664 - accuracy: 0.5165\n",
      "Epoch 2/30\n",
      "325/325 [==============================] - 2s 6ms/step - loss: 0.6785 - prc: 0.5822 - accuracy: 0.5689\n",
      "Epoch 3/30\n",
      "325/325 [==============================] - 2s 6ms/step - loss: 0.6617 - prc: 0.6279 - accuracy: 0.6016\n",
      "Epoch 4/30\n",
      "325/325 [==============================] - 2s 6ms/step - loss: 0.6496 - prc: 0.6438 - accuracy: 0.6200\n",
      "Epoch 5/30\n",
      "325/325 [==============================] - 2s 6ms/step - loss: 0.6391 - prc: 0.6664 - accuracy: 0.6309\n",
      "Epoch 6/30\n",
      "325/325 [==============================] - 2s 6ms/step - loss: 0.6355 - prc: 0.6733 - accuracy: 0.6361\n",
      "Epoch 7/30\n",
      "325/325 [==============================] - 2s 6ms/step - loss: 0.6268 - prc: 0.6869 - accuracy: 0.6456\n",
      "Epoch 8/30\n",
      "325/325 [==============================] - 2s 6ms/step - loss: 0.6182 - prc: 0.6978 - accuracy: 0.6543\n",
      "Epoch 9/30\n",
      "325/325 [==============================] - 2s 6ms/step - loss: 0.6114 - prc: 0.7074 - accuracy: 0.6615\n",
      "Epoch 10/30\n",
      "325/325 [==============================] - 2s 6ms/step - loss: 0.6105 - prc: 0.7120 - accuracy: 0.6620\n",
      "Epoch 11/30\n",
      "325/325 [==============================] - 2s 6ms/step - loss: 0.6042 - prc: 0.7203 - accuracy: 0.6684\n",
      "Epoch 12/30\n",
      "325/325 [==============================] - 2s 6ms/step - loss: 0.5986 - prc: 0.7263 - accuracy: 0.6736\n",
      "Epoch 13/30\n",
      "325/325 [==============================] - 2s 6ms/step - loss: 0.5898 - prc: 0.7371 - accuracy: 0.6811\n",
      "Epoch 14/30\n",
      "325/325 [==============================] - 2s 6ms/step - loss: 0.5857 - prc: 0.7423 - accuracy: 0.6814\n",
      "Epoch 15/30\n",
      "325/325 [==============================] - 2s 6ms/step - loss: 0.5819 - prc: 0.7460 - accuracy: 0.6920\n",
      "Epoch 16/30\n",
      "325/325 [==============================] - 2s 6ms/step - loss: 0.5775 - prc: 0.7511 - accuracy: 0.6942\n",
      "Epoch 17/30\n",
      "325/325 [==============================] - 2s 6ms/step - loss: 0.5732 - prc: 0.7558 - accuracy: 0.6966\n",
      "Epoch 18/30\n",
      "325/325 [==============================] - 2s 6ms/step - loss: 0.5666 - prc: 0.7618 - accuracy: 0.7048\n",
      "Epoch 19/30\n",
      "325/325 [==============================] - 2s 6ms/step - loss: 0.5625 - prc: 0.7653 - accuracy: 0.7059\n",
      "Epoch 20/30\n",
      "325/325 [==============================] - 2s 6ms/step - loss: 0.5572 - prc: 0.7723 - accuracy: 0.7129\n",
      "Epoch 21/30\n",
      "325/325 [==============================] - 2s 6ms/step - loss: 0.5569 - prc: 0.7729 - accuracy: 0.7087\n",
      "Epoch 22/30\n",
      "325/325 [==============================] - 2s 6ms/step - loss: 0.5499 - prc: 0.7800 - accuracy: 0.7162\n",
      "Epoch 23/30\n",
      "325/325 [==============================] - 2s 6ms/step - loss: 0.5459 - prc: 0.7840 - accuracy: 0.7194\n",
      "Epoch 24/30\n",
      "325/325 [==============================] - 2s 6ms/step - loss: 0.5466 - prc: 0.7856 - accuracy: 0.7174\n",
      "Epoch 25/30\n",
      "325/325 [==============================] - 2s 6ms/step - loss: 0.5447 - prc: 0.7876 - accuracy: 0.7204\n",
      "Epoch 26/30\n",
      "325/325 [==============================] - 2s 6ms/step - loss: 0.5337 - prc: 0.7965 - accuracy: 0.7303\n",
      "Epoch 27/30\n",
      "325/325 [==============================] - 2s 6ms/step - loss: 0.5295 - prc: 0.7991 - accuracy: 0.7330\n",
      "Epoch 28/30\n",
      "325/325 [==============================] - 2s 6ms/step - loss: 0.5271 - prc: 0.8019 - accuracy: 0.7348\n",
      "Epoch 29/30\n",
      "325/325 [==============================] - 2s 6ms/step - loss: 0.5221 - prc: 0.8078 - accuracy: 0.7356\n",
      "Epoch 30/30\n",
      "325/325 [==============================] - 2s 6ms/step - loss: 0.5133 - prc: 0.8157 - accuracy: 0.7426\n"
     ]
    },
    {
     "data": {
      "text/plain": [
       "<keras.src.callbacks.History at 0x7fae1c8cf550>"
      ]
     },
     "execution_count": 95,
     "metadata": {},
     "output_type": "execute_result"
    }
   ],
   "source": [
    "ppi_model.fit(X_train_balanced, y_train_balanced, epochs=30, batch_size=64, verbose=1)"
   ]
  },
  {
   "cell_type": "code",
   "execution_count": null,
   "metadata": {},
   "outputs": [
    {
     "name": "stderr",
     "output_type": "stream",
     "text": [
      "/home/mahmoud/anaconda3/lib/python3.11/site-packages/keras/src/engine/training.py:3000: UserWarning: You are saving your model as an HDF5 file via `model.save()`. This file format is considered legacy. We recommend using instead the native Keras format, e.g. `model.save('my_model.keras')`.\n",
      "  saving_api.save_model(\n"
     ]
    }
   ],
   "source": [
    "ppi_model.save('model/ppi_model9.h5')"
   ]
  },
  {
   "cell_type": "code",
   "execution_count": 96,
   "metadata": {},
   "outputs": [
    {
     "name": "stdout",
     "output_type": "stream",
     "text": [
      "411/411 [==============================] - 1s 2ms/step\n"
     ]
    },
    {
     "data": {
      "text/plain": [
       "0.9862191"
      ]
     },
     "execution_count": 96,
     "metadata": {},
     "output_type": "execute_result"
    }
   ],
   "source": [
    "y_pred = ppi_model.predict(X_test)\n",
    "y_pred = np.squeeze(y_pred)\n",
    "y_pred.max()"
   ]
  },
  {
   "cell_type": "code",
   "execution_count": 26,
   "metadata": {},
   "outputs": [
    {
     "data": {
      "text/plain": [
       "235"
      ]
     },
     "execution_count": 26,
     "metadata": {},
     "output_type": "execute_result"
    }
   ],
   "source": [
    "y_pred = np.where(y_pred < 0.5, 0, 1)\n",
    "y_pred.sum()"
   ]
  },
  {
   "cell_type": "code",
   "execution_count": 27,
   "metadata": {},
   "outputs": [
    {
     "data": {
      "text/plain": [
       "0.017878880097382838"
      ]
     },
     "execution_count": 27,
     "metadata": {},
     "output_type": "execute_result"
    }
   ],
   "source": [
    "y_pred.sum()/y_pred.shape[0]"
   ]
  },
  {
   "cell_type": "code",
   "execution_count": 68,
   "metadata": {},
   "outputs": [
    {
     "data": {
      "text/plain": [
       "0.15786670724284846"
      ]
     },
     "execution_count": 68,
     "metadata": {},
     "output_type": "execute_result"
    }
   ],
   "source": [
    "y_test.sum()/ y_test.shape[0]"
   ]
  },
  {
   "cell_type": "code",
   "execution_count": 66,
   "metadata": {},
   "outputs": [
    {
     "data": {
      "text/plain": [
       "2075"
      ]
     },
     "execution_count": 66,
     "metadata": {},
     "output_type": "execute_result"
    }
   ],
   "source": [
    "y_test.sum()"
   ]
  },
  {
   "cell_type": "code",
   "execution_count": 97,
   "metadata": {},
   "outputs": [
    {
     "name": "stdout",
     "output_type": "stream",
     "text": [
      "411/411 [==============================] - 1s 2ms/step\n",
      "Accuracy of ppi_model : 0.6088709677419355\n",
      "F1 of ppi_model : 0.3585776668746101\n",
      "Precision of ppi_model : 0.24191919191919192\n",
      "Recall of ppi_model : 0.6925301204819277\n",
      "MCC of ppi_model : 0.2093250640395229\n",
      "AUC of ppi_model : 0.642859151848155\n"
     ]
    }
   ],
   "source": [
    "y_pred = ppi_model.predict(X_test)\n",
    "y_pred = np.squeeze(y_pred)\n",
    "y_pred = np.where(y_pred > 0.5, 1, 0)\n",
    "\n",
    "\n",
    "\n",
    "print('Accuracy of ppi_model :',accuracy_score(y_test, y_pred))\n",
    "\n",
    "print('F1 of ppi_model :',f1_score(y_test, y_pred))\n",
    "\n",
    "print('Precision of ppi_model :',precision_score(y_test, y_pred))\n",
    "129\n",
    "print('Recall of ppi_model :',recall_score(y_test, y_pred))\n",
    "\n",
    "print('MCC of ppi_model :',matthews_corrcoef(y_test, y_pred))\n",
    "\n",
    "print('AUC of ppi_model :',roc_auc_score(y_test, y_pred))"
   ]
  },
  {
   "cell_type": "code",
   "execution_count": 27,
   "metadata": {},
   "outputs": [
    {
     "name": "stdout",
     "output_type": "stream",
     "text": [
      "411/411 [==============================] - 2s 3ms/step\n",
      "411/411 [==============================] - 1s 2ms/step\n",
      "411/411 [==============================] - 1s 2ms/step\n",
      "411/411 [==============================] - 1s 2ms/step\n",
      "411/411 [==============================] - 1s 2ms/step\n",
      "411/411 [==============================] - 1s 2ms/step\n",
      "411/411 [==============================] - 1s 2ms/step\n",
      "411/411 [==============================] - 1s 2ms/step\n",
      "411/411 [==============================] - 1s 2ms/step\n",
      "411/411 [==============================] - 1s 2ms/step\n",
      "411/411 [==============================] - 1s 2ms/step\n"
     ]
    }
   ],
   "source": [
    "ppi_models = []\n",
    "for i in range(0,31):\n",
    "    X_train_balanced, y_train_balanced = balance_data(X_train_1, y_train_1, target_ratio=0.5, random_seed=i)\n",
    "    ppi_model = PPI_Model()\n",
    "    ppi_model.compile(optimizer=tf.keras.optimizers.experimental.Nadam(learning_rate=0.001,weight_decay=0.05,use_ema=True),\n",
    "                  loss='binary_crossentropy',\n",
    "                  metrics=metrics)\n",
    "    \n",
    "    ppi_model.fit(X_train_balanced, y_train_balanced, epochs=30, batch_size=64, verbose=0)\n",
    "\n",
    "    y_pred = ppi_model.predict(X_test)\n",
    "    y_pred = np.squeeze(y_pred)\n",
    "    y_pred = np.where(y_pred > 0.5, 1, 0)\n",
    "    mcc = matthews_corrcoef(y_test, y_pred)\n",
    "    ppi_models.append((ppi_model, mcc,i))"
   ]
  },
  {
   "cell_type": "code",
   "execution_count": 25,
   "metadata": {},
   "outputs": [],
   "source": [
    "ppi_models.sort(key=lambda x: x[1],reverse=True)"
   ]
  },
  {
   "cell_type": "code",
   "execution_count": 21,
   "metadata": {},
   "outputs": [
    {
     "data": {
      "text/plain": [
       "7"
      ]
     },
     "execution_count": 21,
     "metadata": {},
     "output_type": "execute_result"
    }
   ],
   "source": [
    "ppi_models[0][2]"
   ]
  },
  {
   "cell_type": "code",
   "execution_count": 26,
   "metadata": {},
   "outputs": [
    {
     "name": "stdout",
     "output_type": "stream",
     "text": [
      "411/411 [==============================] - 1s 2ms/step\n",
      "Accuracy of ppi_model : 0.6715611685940353\n",
      "F1 of ppi_model : 0.35480496188910476\n",
      "Precision of ppi_model : 0.2571490467937608\n",
      "Recall of ppi_model : 0.5720481927710843\n",
      "MCC of ppi_model : 0.2003298256301579\n",
      "AUC of ppi_model : 0.6311320555507783\n"
     ]
    }
   ],
   "source": [
    "model_exp = ppi_models[0][0]\n",
    "y_pred = model_exp.predict(X_test)\n",
    "y_pred = np.squeeze(y_pred)\n",
    "y_pred = np.where(y_pred > 0.5, 1, 0)\n",
    "\n",
    "\n",
    "print('Accuracy of ppi_model :',accuracy_score(y_test, y_pred))\n",
    "\n",
    "print('F1 of ppi_model :',f1_score(y_test, y_pred))\n",
    "\n",
    "print('Precision of ppi_model :',precision_score(y_test, y_pred))\n",
    "\n",
    "print('Recall of ppi_model :',recall_score(y_test, y_pred))\n",
    "\n",
    "print('MCC of ppi_model :',matthews_corrcoef(y_test, y_pred))\n",
    "\n",
    "print('AUC of ppi_model :',roc_auc_score(y_test, y_pred))"
   ]
  },
  {
   "cell_type": "code",
   "execution_count": null,
   "metadata": {},
   "outputs": [],
   "source": []
  },
  {
   "cell_type": "code",
   "execution_count": null,
   "metadata": {},
   "outputs": [],
   "source": [
    "# Assuming X_pretraining is a list of three arrays and y_pretraining is a NumPy array\n",
    "for x , y in zip(X_train,y_train):\n",
    "    y = np.array(y)\n",
    "\n",
    "    if x[0].shape[0] > 200:\n",
    "        batch_size = 64\n",
    "        eps = 19\n",
    "    elif x[0].shape[0] > 100:\n",
    "        batch_size = 32\n",
    "        eps = 23\n",
    "    else:\n",
    "        batch_size = 16\n",
    "        eps = 29\n",
    "\n",
    "    ppi_model.fit(x, y, epochs=12, batch_size=batch_size,verbose=1)\n"
   ]
  }
 ],
 "metadata": {
  "kernelspec": {
   "display_name": "base",
   "language": "python",
   "name": "python3"
  },
  "language_info": {
   "codemirror_mode": {
    "name": "ipython",
    "version": 3
   },
   "file_extension": ".py",
   "mimetype": "text/x-python",
   "name": "python",
   "nbconvert_exporter": "python",
   "pygments_lexer": "ipython3",
   "version": "3.11.5"
  },
  "orig_nbformat": 4
 },
 "nbformat": 4,
 "nbformat_minor": 2
}
